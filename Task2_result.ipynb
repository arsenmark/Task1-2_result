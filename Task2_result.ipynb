{
  "nbformat": 4,
  "nbformat_minor": 0,
  "metadata": {
    "colab": {
      "provenance": []
    },
    "kernelspec": {
      "name": "python3",
      "display_name": "Python 3"
    },
    "language_info": {
      "name": "python"
    }
  },
  "cells": [
    {
      "cell_type": "code",
      "execution_count": 13,
      "metadata": {
        "id": "0sHgNFyPLok6"
      },
      "outputs": [],
      "source": [
        "import numpy as np"
      ]
    },
    {
      "cell_type": "code",
      "source": [
        "#define neighbors\n",
        "borderI = [-1, 0, 0, 1]\n",
        "borderJ = [0, -1, 1, 0]\n",
        "num = len(borderI)\n",
        "\n",
        "\"\"\"\n",
        "Search for neighbors\n",
        "The main idea is when we find the part of island, we detected all parts of island\n",
        "and then erase them. So we can't find this island twice.\n",
        "\"\"\" \n",
        "def save(i, j):\n",
        "    return (i >= 0 and i < N and\n",
        "            j >= 0 and j < M and\n",
        "            matrix[i][j] == 1)\n",
        "\n",
        "def erase(i, j):\n",
        "    for k in range(num):        \n",
        "        if save(i+borderI[k], j+borderJ[k]):\n",
        "            matrix[i+borderI[k]][j+borderJ[k]] = 0\n",
        "            erase(i+borderI[k], j+borderJ[k])"
      ],
      "metadata": {
        "id": "IQFQC-xTLtmZ"
      },
      "execution_count": 14,
      "outputs": []
    },
    {
      "cell_type": "code",
      "source": [
        "#Matrix definition\n",
        "N = int(input(\"Number of rows(N): \"))\n",
        "M = int(input(\"Number of colomns(M): \"))\n",
        "print(\"Matrix elements: \")\n",
        "val = list(map(int, input().split()))\n",
        "matrix = np.array(val).reshape(N,M)\n",
        "\n",
        "#Show matrix\n",
        "print(\"\\nMatrix look:\")\n",
        "for i in range(N):\n",
        "  print(matrix[i])\n",
        "\n",
        "#Count the number of islands\n",
        "count = 0\n",
        "for i in range(N):\n",
        "  for j in range(M):\n",
        "    if matrix[i][j] == 1:\n",
        "      matrix[i][j] =0\n",
        "      erase(i,j)\n",
        "      count += 1\n",
        "           \n",
        "print(\"\\nOutput: \", count) \n"
      ],
      "metadata": {
        "colab": {
          "base_uri": "https://localhost:8080/"
        },
        "id": "ojYe-KTAMUoN",
        "outputId": "96cf99a9-9b3f-44d2-a1d9-69272e490dcf"
      },
      "execution_count": 15,
      "outputs": [
        {
          "output_type": "stream",
          "name": "stdout",
          "text": [
            "Number of rows(N): 3\n",
            "Number of colomns(M): 4\n",
            "Matrix elements: \n",
            "0 0 0 1 0 0 1 1 0 1 0 1\n",
            "\n",
            "Matrix look:\n",
            "[0 0 0 1]\n",
            "[0 0 1 1]\n",
            "[0 1 0 1]\n",
            "\n",
            "Output:  2\n"
          ]
        }
      ]
    }
  ]
}