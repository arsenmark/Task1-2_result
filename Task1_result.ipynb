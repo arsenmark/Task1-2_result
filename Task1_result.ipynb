{
  "nbformat": 4,
  "nbformat_minor": 0,
  "metadata": {
    "colab": {
      "provenance": []
    },
    "kernelspec": {
      "name": "python3",
      "display_name": "Python 3"
    },
    "language_info": {
      "name": "python"
    }
  },
  "cells": [
    {
      "cell_type": "code",
      "source": [
        "import timeit"
      ],
      "metadata": {
        "id": "hOZPIkvnJ880"
      },
      "execution_count": null,
      "outputs": []
    },
    {
      "cell_type": "code",
      "source": [
        "#Check if input is positive integer\n",
        "while True: \n",
        "    number = input(\"Input: \") \n",
        "    try: \n",
        "        val = int(number) \n",
        "        if val < 0: \n",
        "            print(\"Sorry, input must be a positive integer, try again\") \n",
        "            continue \n",
        "        break \n",
        "    except ValueError: \n",
        "        print(\"That's not an int.\")      \n",
        "\n",
        "\n",
        "#Method and calculation of its working time\n",
        "start = timeit.default_timer()\n",
        "\n",
        "output = (1+val)/2*val\n",
        "print(\"Output: \", output)\n",
        "\n",
        "stop = timeit.default_timer()\n",
        "\n",
        "print('Execution time: ', stop - start)  \n",
        "\n"
      ],
      "metadata": {
        "colab": {
          "base_uri": "https://localhost:8080/"
        },
        "id": "6Zzw0wGEI68k",
        "outputId": "1652e425-f6bf-4d87-865c-8090a62e64e4"
      },
      "execution_count": 9,
      "outputs": [
        {
          "output_type": "stream",
          "name": "stdout",
          "text": [
            "Input: 10\n",
            "Output:  55.0\n",
            "Execution time:  0.0009193699997922522\n"
          ]
        }
      ]
    }
  ]
}